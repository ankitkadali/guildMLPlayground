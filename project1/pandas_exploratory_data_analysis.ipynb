{
 "cells": [
  {
   "cell_type": "markdown",
   "metadata": {
    "colab_type": "text",
    "id": "5WNm0Jm7Sg_B"
   },
   "source": [
    "# **Exploratory Data Analysis in Python using pandas**\n",
    "\n",
    "Chanin Nantasenamat\n",
    "\n",
    "<i>[Data Professor YouTube channel](http://youtube.com/dataprofessor), http://youtube.com/dataprofessor </i>\n",
    "\n",
    "In this Jupyter notebook, I will be showing you how to perform Exploratory Data Analysis on web scraped data of NBA player stats as obtained in a previous [Jupyter notebook](https://github.com/dataprofessor/code/blob/master/python/pandas_read_html_for_webscraping.ipynb) as discussed on our YouTube video [Easy Web Scraping in Python using Pandas for Data Science](https://www.youtube.com/watch?v=SPu_5EfswIE)."
   ]
  },
  {
   "cell_type": "markdown",
   "metadata": {
    "colab_type": "text",
    "id": "fhVY2xJJS0FU"
   },
   "source": [
    "## **Web scraping data using pandas**\n",
    "\n",
    "The following block of code will retrieve the \"2018-19 NBA Player Stats: Per Game\" data from http://www.basketball-reference.com/."
   ]
  },
  {
   "cell_type": "code",
   "execution_count": null,
   "metadata": {
    "colab": {
     "base_uri": "https://localhost:8080/",
     "height": 419
    },
    "colab_type": "code",
    "id": "4sLS78K-S-r2",
    "outputId": "4c04670d-c466-471a-b13e-043b3d563b16"
   },
   "outputs": [],
   "source": [
    "# import os\n",
    "from urllib import request\n",
    "import pandas as pd\n",
    "import ssl\n",
    "\n",
    "# Retrieve HTML table data\n",
    "url = 'https://www.basketball-reference.com/leagues/NBA_2019_per_game.html'\n",
    "context = ssl._create_unverified_context()\n",
    "response = request.urlopen(url, context=context)\n",
    "html = response.read()\n",
    "df = pd.read_html(url, header = 0)\n",
    "df2019 = df[0]\n",
    "\n",
    "# Data cleaning\n",
    "raw = df2019.drop(df2019[df2019.Age == 'Age'].index)\n",
    "raw\n"
   ]
  },
  {
   "cell_type": "markdown",
   "metadata": {
    "colab_type": "text",
    "id": "KzglK9XYVorP",
    "jp-MarkdownHeadingCollapsed": true
   },
   "source": [
    "## **Acronyms**\n",
    "\n",
    "\n",
    "Acronym | Description\n",
    "---|---\n",
    "Rk | Rank\n",
    "Pos | Position\n",
    "Age | Player's age on February 1 of the season\n",
    "Tm | Team\n",
    "G | Games\n",
    "GS | Games Started\n",
    "MP | Minutes Played Per Game\n",
    "FG | Field Goals Per Game\n",
    "FGA | Field Goal Attempts Per Game\n",
    "FG% | Field Goal Percentage\n",
    "3P | 3-Point Field Goals Per Game\n",
    "3PA | 3-Point Field Goal Attempts Per Game\n",
    "3P% | FG% on 3-Pt FGAs.\n",
    "2P | 2-Point Field Goals Per Game\n",
    "2PA | 2-Point Field Goal Attempts Per Game\n",
    "2P% | FG% on 2-Pt FGAs.\n",
    "eFG% | Effective Field Goal Percentage\n",
    "| *(Note: This statistic adjusts for the fact that a 3-point field goal is worth one more point than a 2-point field goal.)*\n",
    "FT | Free Throws Per Game\n",
    "FTA | Free Throw Attempts Per Game\n",
    "FT% | Free Throw Percentage\n",
    "ORB | Offensive Rebounds Per Game\n",
    "DRB | Defensive Rebounds Per Game\n",
    "TRB | Total Rebounds Per Game\n",
    "AST | Assists Per Game\n",
    "STL | Steals Per Game\n",
    "BLK | Blocks Per Game\n",
    "TOV | Turnovers Per Game\n",
    "PF | Personal Fouls Per Game\n",
    "PTS | Points Per Game"
   ]
  },
  {
   "cell_type": "markdown",
   "metadata": {
    "colab_type": "text",
    "id": "Wt3Ttu15xU0K"
   },
   "source": [
    "## **Data cleaning**"
   ]
  },
  {
   "cell_type": "markdown",
   "metadata": {
    "colab_type": "text",
    "id": "in9Z-pBU4tjV"
   },
   "source": [
    "### Data dimension"
   ]
  },
  {
   "cell_type": "code",
   "execution_count": null,
   "metadata": {
    "colab": {
     "base_uri": "https://localhost:8080/",
     "height": 34
    },
    "colab_type": "code",
    "id": "Fv9WlKFo4oTH",
    "outputId": "e32c69e0-e94e-418b-f757-5b8f1f02938d"
   },
   "outputs": [],
   "source": [
    "raw.shape"
   ]
  },
  {
   "cell_type": "markdown",
   "metadata": {
    "colab_type": "text",
    "id": "fLm75CFV4yEK"
   },
   "source": [
    "### Dataframe contents"
   ]
  },
  {
   "cell_type": "code",
   "execution_count": null,
   "metadata": {
    "colab": {
     "base_uri": "https://localhost:8080/",
     "height": 204
    },
    "colab_type": "code",
    "id": "Ew9QV7dd4oVz",
    "outputId": "fe9e4f0a-9ec0-4ae5-919a-5d16e1966530"
   },
   "outputs": [],
   "source": [
    "raw.head()"
   ]
  },
  {
   "cell_type": "markdown",
   "metadata": {
    "colab_type": "text",
    "id": "EITj70Uj5ExV"
   },
   "source": [
    "### Check for missing values"
   ]
  },
  {
   "cell_type": "code",
   "execution_count": null,
   "metadata": {
    "colab": {
     "base_uri": "https://localhost:8080/",
     "height": 544
    },
    "colab_type": "code",
    "id": "0ZRMtlBh4oYW",
    "outputId": "800856a1-a495-44f6-ef07-88d13c2eaa73"
   },
   "outputs": [],
   "source": [
    "raw.isnull().sum()"
   ]
  },
  {
   "cell_type": "markdown",
   "metadata": {
    "colab_type": "text",
    "id": "Dr8qinan59_d"
   },
   "source": [
    "### Replace missing values with 0 "
   ]
  },
  {
   "cell_type": "code",
   "execution_count": null,
   "metadata": {
    "colab": {},
    "colab_type": "code",
    "id": "omHd0Sk74oax"
   },
   "outputs": [],
   "source": [
    "df = raw.fillna(0)"
   ]
  },
  {
   "cell_type": "code",
   "execution_count": null,
   "metadata": {
    "colab": {
     "base_uri": "https://localhost:8080/",
     "height": 544
    },
    "colab_type": "code",
    "id": "TaKlXdUH4odI",
    "outputId": "bb5e2e7b-b43f-48a0-b90e-cb207863d6e8"
   },
   "outputs": [],
   "source": [
    "df.isnull().sum()"
   ]
  },
  {
   "cell_type": "code",
   "execution_count": null,
   "metadata": {
    "colab": {
     "base_uri": "https://localhost:8080/",
     "height": 419
    },
    "colab_type": "code",
    "id": "fstf3jQTh8DJ",
    "outputId": "c624630c-4b24-442a-f353-7f0e1e778e0c"
   },
   "outputs": [],
   "source": [
    "df = df.drop(['Rk'], axis=1)\n",
    "df"
   ]
  },
  {
   "cell_type": "markdown",
   "metadata": {
    "colab_type": "text",
    "id": "zwASrKmRhkIu"
   },
   "source": [
    "### Write to CSV file"
   ]
  },
  {
   "cell_type": "code",
   "execution_count": null,
   "metadata": {
    "colab": {},
    "colab_type": "code",
    "id": "UEFT8isYhmzF"
   },
   "outputs": [],
   "source": [
    "df.to_csv('nba2019.csv', index=False)"
   ]
  },
  {
   "cell_type": "code",
   "execution_count": null,
   "metadata": {
    "colab": {
     "base_uri": "https://localhost:8080/",
     "height": 34
    },
    "colab_type": "code",
    "id": "p3S26vjLhuHd",
    "outputId": "56a3a566-d4fd-4632-dc42-82f7f731b941"
   },
   "outputs": [],
   "source": [
    "! ls"
   ]
  },
  {
   "cell_type": "code",
   "execution_count": null,
   "metadata": {
    "colab": {
     "base_uri": "https://localhost:8080/",
     "height": 1000
    },
    "colab_type": "code",
    "id": "du6_OH6YhwPV",
    "outputId": "989f818c-63ed-4121-ba8c-b50078747695"
   },
   "outputs": [],
   "source": [
    "! cat nba2019.csv"
   ]
  },
  {
   "cell_type": "markdown",
   "metadata": {
    "colab_type": "text",
    "id": "iHz_ehmSd_SP"
   },
   "source": [
    "## **Exploratory Data Analysis**"
   ]
  },
  {
   "cell_type": "markdown",
   "metadata": {
    "colab_type": "text",
    "id": "3GL2wl4wd_SO"
   },
   "source": [
    "### Read data"
   ]
  },
  {
   "cell_type": "code",
   "execution_count": null,
   "metadata": {
    "colab": {},
    "colab_type": "code",
    "id": "xPMzN8Mnd_SK"
   },
   "outputs": [],
   "source": [
    "df = pd.read_csv('nba2019.csv')"
   ]
  },
  {
   "cell_type": "markdown",
   "metadata": {
    "colab_type": "text",
    "id": "fAk-QoV_d_SJ"
   },
   "source": [
    "#### Displays the dataframe"
   ]
  },
  {
   "cell_type": "code",
   "execution_count": null,
   "metadata": {
    "colab": {
     "base_uri": "https://localhost:8080/",
     "height": 419
    },
    "colab_type": "code",
    "id": "TwW8LAgVd_SE",
    "outputId": "3165264f-54a1-4d40-a29f-b09bf6006faa"
   },
   "outputs": [],
   "source": [
    "df"
   ]
  },
  {
   "cell_type": "markdown",
   "metadata": {
    "colab_type": "text",
    "id": "quP1lwt9d_SE"
   },
   "source": [
    "If we want to see more..."
   ]
  },
  {
   "cell_type": "code",
   "execution_count": null,
   "metadata": {
    "colab": {},
    "colab_type": "code",
    "id": "UXKqe0kEd_SA"
   },
   "outputs": [],
   "source": [
    "pd.set_option('display.max_rows', df.shape[0]+1)"
   ]
  },
  {
   "cell_type": "code",
   "execution_count": null,
   "metadata": {
    "colab": {
     "base_uri": "https://localhost:8080/",
     "height": 1000
    },
    "colab_type": "code",
    "id": "8yNqqEKwd_R6",
    "outputId": "20580652-c14e-4f91-97e1-040f8ff1354c"
   },
   "outputs": [],
   "source": [
    "df"
   ]
  },
  {
   "cell_type": "markdown",
   "metadata": {
    "colab_type": "text",
    "id": "snACooEzd_R5"
   },
   "source": [
    "Reverting back to the default"
   ]
  },
  {
   "cell_type": "code",
   "execution_count": null,
   "metadata": {
    "colab": {},
    "colab_type": "code",
    "id": "VmQQdrkkd_R1"
   },
   "outputs": [],
   "source": [
    "pd.set_option('display.max_rows', 10)"
   ]
  },
  {
   "cell_type": "code",
   "execution_count": null,
   "metadata": {
    "colab": {
     "base_uri": "https://localhost:8080/",
     "height": 419
    },
    "colab_type": "code",
    "id": "vvJFVmJqd_Rx",
    "outputId": "2d7bb2b6-98ec-479d-e211-9d16f1290716"
   },
   "outputs": [],
   "source": [
    "df"
   ]
  },
  {
   "cell_type": "markdown",
   "metadata": {
    "colab_type": "text",
    "id": "9bVSYvfzd_Rw"
   },
   "source": [
    "### Overview of data types of each columns in the dataframe"
   ]
  },
  {
   "cell_type": "code",
   "execution_count": null,
   "metadata": {
    "colab": {
     "base_uri": "https://localhost:8080/",
     "height": 221
    },
    "colab_type": "code",
    "id": "JJs9g1HAd_Rs",
    "outputId": "b16c94cf-e358-4818-e07b-9968ced5af46"
   },
   "outputs": [],
   "source": [
    "df.dtypes"
   ]
  },
  {
   "cell_type": "markdown",
   "metadata": {
    "colab_type": "text",
    "id": "ls339eZId_Rr"
   },
   "source": [
    "### Show specific data types in dataframe"
   ]
  },
  {
   "cell_type": "code",
   "execution_count": null,
   "metadata": {
    "colab": {
     "base_uri": "https://localhost:8080/",
     "height": 419
    },
    "colab_type": "code",
    "id": "dEsJO1ZJd_Rn",
    "outputId": "56bcba7e-8233-483d-8406-c481b33d85a9"
   },
   "outputs": [],
   "source": [
    "df.select_dtypes(include=['number'])"
   ]
  },
  {
   "cell_type": "code",
   "execution_count": null,
   "metadata": {
    "colab": {
     "base_uri": "https://localhost:8080/",
     "height": 419
    },
    "colab_type": "code",
    "id": "7_7RgIpbd_Rj",
    "outputId": "93322de2-ef78-4c03-8ff5-28d9ef8a095f"
   },
   "outputs": [],
   "source": [
    "df.select_dtypes(include=['object'])"
   ]
  },
  {
   "cell_type": "markdown",
   "metadata": {
    "colab_type": "text",
    "id": "kdLdK6U31rOH"
   },
   "source": [
    "## **QUESTIONS**"
   ]
  },
  {
   "cell_type": "markdown",
   "metadata": {
    "colab_type": "text",
    "id": "wDhMfqlXxAb5"
   },
   "source": [
    "### **Conditional Selection**\n",
    "\n",
    "In performing exploratory data analysis, it is important to be able to select subsets of data to perform analysis or comparisons."
   ]
  },
  {
   "cell_type": "markdown",
   "metadata": {
    "colab_type": "text",
    "id": "w5WugPUq5zEh"
   },
   "source": [
    "**Which player scored the most Points (PTS) Per Game?**\n",
    "Here, we will return the entire row."
   ]
  },
  {
   "cell_type": "code",
   "execution_count": null,
   "metadata": {
    "colab": {
     "base_uri": "https://localhost:8080/",
     "height": 80
    },
    "colab_type": "code",
    "id": "k-VGyApb51d_",
    "outputId": "1ea1b9b1-3877-41b0-f816-eae99ead5616"
   },
   "outputs": [],
   "source": [
    "df[df.PTS == df.PTS.max()]"
   ]
  },
  {
   "cell_type": "markdown",
   "metadata": {
    "colab_type": "text",
    "id": "2vr0VvlP6Ykq"
   },
   "source": [
    "We will return specific column values.\n",
    "\n",
    "Further question, what team is the player from? "
   ]
  },
  {
   "cell_type": "code",
   "execution_count": null,
   "metadata": {
    "colab": {
     "base_uri": "https://localhost:8080/",
     "height": 51
    },
    "colab_type": "code",
    "id": "XHfx1lBI6dxa",
    "outputId": "a6fb9d7c-d28a-4b30-df8d-714043b3ff8f"
   },
   "outputs": [],
   "source": [
    "PlayerMaxPoints = df[df.PTS == df.PTS.max()]\n",
    "PlayerMaxPoints.Tm"
   ]
  },
  {
   "cell_type": "markdown",
   "metadata": {
    "colab_type": "text",
    "id": "wH9J90ehA77V"
   },
   "source": [
    "Which position is the player playing as?"
   ]
  },
  {
   "cell_type": "code",
   "execution_count": null,
   "metadata": {
    "colab": {
     "base_uri": "https://localhost:8080/",
     "height": 51
    },
    "colab_type": "code",
    "id": "Ld6Zu595A7kM",
    "outputId": "847abe1c-0b52-49b2-b608-2582fea07027"
   },
   "outputs": [],
   "source": [
    "PlayerMaxPoints.Pos"
   ]
  },
  {
   "cell_type": "markdown",
   "metadata": {
    "colab_type": "text",
    "id": "iYU_v2W_BGTe"
   },
   "source": []
  },
  {
   "cell_type": "markdown",
   "metadata": {
    "colab_type": "text",
    "id": "9HFeLKDoBHF4"
   },
   "source": [
    "How many games did the player played in the season?"
   ]
  },
  {
   "cell_type": "code",
   "execution_count": null,
   "metadata": {
    "colab": {
     "base_uri": "https://localhost:8080/",
     "height": 51
    },
    "colab_type": "code",
    "id": "Rh4UXf9ZBKhB",
    "outputId": "63ddf20c-9740-4c21-f699-9cbc170ea365"
   },
   "outputs": [],
   "source": [
    "PlayerMaxPoints.G"
   ]
  },
  {
   "cell_type": "markdown",
   "metadata": {
    "colab_type": "text",
    "id": "vIPTWp311w0D"
   },
   "source": [
    "**Which player scored more than 20 Points (PTS) Per Game?**"
   ]
  },
  {
   "cell_type": "code",
   "execution_count": null,
   "metadata": {
    "colab": {
     "base_uri": "https://localhost:8080/",
     "height": 419
    },
    "colab_type": "code",
    "id": "rb3vme4516CI",
    "outputId": "5f403176-8d36-4aff-f203-40b88cb65e2d"
   },
   "outputs": [],
   "source": [
    "df[df.PTS > 20]"
   ]
  },
  {
   "cell_type": "markdown",
   "metadata": {
    "colab_type": "text",
    "id": "Da313cYi2zM3"
   },
   "source": [
    "**Which player had the highest 3-Point Field Goals Per Game (3P) ?**"
   ]
  },
  {
   "cell_type": "code",
   "execution_count": null,
   "metadata": {
    "colab": {
     "base_uri": "https://localhost:8080/",
     "height": 80
    },
    "colab_type": "code",
    "id": "E34dZROU3CXq",
    "outputId": "e742e328-7006-4e0a-a889-bd6a68a4822c"
   },
   "outputs": [],
   "source": [
    "df[df['3P'] == df['3P'].max()]"
   ]
  },
  {
   "cell_type": "markdown",
   "metadata": {
    "colab_type": "text",
    "id": "kwoxuxN95XBn"
   },
   "source": [
    "**Which player had the highest Assists Per Game (AST) ?**"
   ]
  },
  {
   "cell_type": "code",
   "execution_count": null,
   "metadata": {
    "colab": {
     "base_uri": "https://localhost:8080/",
     "height": 80
    },
    "colab_type": "code",
    "id": "tKIXtntx6HoW",
    "outputId": "254f11f9-59d4-486e-ba61-5ca54db93c83"
   },
   "outputs": [],
   "source": [
    "df[df['AST'] == df['AST'].max()]"
   ]
  },
  {
   "cell_type": "markdown",
   "metadata": {
    "colab_type": "text",
    "id": "Vqca8kngwzfP"
   },
   "source": [
    "### **GroupBy() function**"
   ]
  },
  {
   "cell_type": "markdown",
   "metadata": {
    "colab_type": "text",
    "id": "gCKH-MJCvRBN"
   },
   "source": [
    "**Which player scored the highest (PTS) in the Los Angeles Lakers?**"
   ]
  },
  {
   "cell_type": "code",
   "execution_count": null,
   "metadata": {
    "colab": {},
    "colab_type": "code",
    "id": "u9zqyjq6uIM3"
   },
   "outputs": [],
   "source": [
    "LAL = df.groupby('Tm').get_group('LAL')"
   ]
  },
  {
   "cell_type": "code",
   "execution_count": null,
   "metadata": {
    "colab": {
     "base_uri": "https://localhost:8080/",
     "height": 80
    },
    "colab_type": "code",
    "id": "eC6KSuS2yhdh",
    "outputId": "8d6102d7-37fd-4071-a305-8e8f4b2c1245"
   },
   "outputs": [],
   "source": [
    "LAL[LAL.PTS == LAL.PTS.max()]"
   ]
  },
  {
   "cell_type": "markdown",
   "metadata": {
    "colab_type": "text",
    "id": "6tTfbd5cTRY9"
   },
   "source": [
    "**Of the 5 positions, which position scores the most points?**\n",
    "\n",
    "We first group players by their positions."
   ]
  },
  {
   "cell_type": "code",
   "execution_count": null,
   "metadata": {
    "colab": {
     "base_uri": "https://localhost:8080/",
     "height": 390
    },
    "colab_type": "code",
    "id": "5p2eqd0LpsRu",
    "outputId": "3ab0e3d6-b95e-4006-d003-30d2c487fde2"
   },
   "outputs": [],
   "source": [
    "df.groupby('Pos').PTS.describe()"
   ]
  },
  {
   "cell_type": "markdown",
   "metadata": {
    "colab_type": "text",
    "id": "Y2F8PR2kvmkO"
   },
   "source": [
    "We will now show only the 5 traditional positions (those having combo positions will be removed from the analysis)."
   ]
  },
  {
   "cell_type": "code",
   "execution_count": null,
   "metadata": {
    "colab": {
     "base_uri": "https://localhost:8080/",
     "height": 419
    },
    "colab_type": "code",
    "id": "aZYLHZPhsB-e",
    "outputId": "f60d505f-a0b3-4bb5-e4ca-78d8815eb6e8"
   },
   "outputs": [],
   "source": [
    "positions = ['C','PF','SF','PG','SG']\n",
    "POS = df[ df['Pos'].isin(positions)  ]\n",
    "POS"
   ]
  },
  {
   "cell_type": "markdown",
   "metadata": {
    "colab_type": "text",
    "id": "2mv2BgvLxidZ"
   },
   "source": [
    "Now, let's take a look at the descriptive statistics."
   ]
  },
  {
   "cell_type": "code",
   "execution_count": null,
   "metadata": {
    "colab": {
     "base_uri": "https://localhost:8080/",
     "height": 235
    },
    "colab_type": "code",
    "id": "jjsf2_AVpL_x",
    "outputId": "491a1eab-b2c8-49a0-a3eb-b7420e4272cb"
   },
   "outputs": [],
   "source": [
    "POS.groupby('Pos').PTS.describe()"
   ]
  },
  {
   "cell_type": "markdown",
   "metadata": {
    "colab_type": "text",
    "id": "c-jQ8kDN0Z0A"
   },
   "source": [
    "### **Histograms**"
   ]
  },
  {
   "cell_type": "markdown",
   "metadata": {
    "colab_type": "text",
    "id": "VzS11hEbwXlR"
   },
   "source": [
    "We'll also try to answer this question by showing some histogram plots. So, to make it a bit easier, let's create a subset dataframe."
   ]
  },
  {
   "cell_type": "code",
   "execution_count": null,
   "metadata": {
    "colab": {
     "base_uri": "https://localhost:8080/",
     "height": 419
    },
    "colab_type": "code",
    "id": "NLpbRJzDgHxK",
    "outputId": "a7a18514-e0d1-45f0-cb3f-f17b5fcda6c3"
   },
   "outputs": [],
   "source": [
    "PTS = df[['Pos','PTS']]\n",
    "\n",
    "positions = ['C','PF','SF','PG','SG']\n",
    "PTS = PTS[ PTS['Pos'].isin(positions)  ]\n",
    "\n",
    "PTS"
   ]
  },
  {
   "cell_type": "markdown",
   "metadata": {
    "colab_type": "text",
    "id": "PO7UfNVVB6uc"
   },
   "source": [
    "#### **pandas built-in visualization**"
   ]
  },
  {
   "cell_type": "code",
   "execution_count": null,
   "metadata": {
    "colab": {
     "base_uri": "https://localhost:8080/",
     "height": 402
    },
    "colab_type": "code",
    "id": "1piOTFFthjiW",
    "outputId": "0ece7679-b3bb-4994-a659-852eb644e38e"
   },
   "outputs": [],
   "source": [
    "PTS['PTS'].hist(by=PTS['Pos'])"
   ]
  },
  {
   "cell_type": "code",
   "execution_count": null,
   "metadata": {
    "colab": {
     "base_uri": "https://localhost:8080/",
     "height": 385
    },
    "colab_type": "code",
    "id": "vPZQAHNLhp8G",
    "outputId": "11308f1d-9de0-41c4-b9d2-eaa9b3247534"
   },
   "outputs": [],
   "source": [
    "PTS['PTS'].hist(by=PTS['Pos'], layout=(1,5))"
   ]
  },
  {
   "cell_type": "code",
   "execution_count": null,
   "metadata": {
    "colab": {
     "base_uri": "https://localhost:8080/",
     "height": 277
    },
    "colab_type": "code",
    "id": "a4ZjJUumzhiw",
    "outputId": "4f6e0bb6-cfba-4804-bff4-e94cc68d5e0a"
   },
   "outputs": [],
   "source": [
    "PTS['PTS'].hist(by=PTS['Pos'], layout=(1,5), figsize=(16,2))\n"
   ]
  },
  {
   "cell_type": "markdown",
   "metadata": {
    "colab_type": "text",
    "id": "U_hocRX9CAX2"
   },
   "source": [
    "#### **Seaborn data visualization**"
   ]
  },
  {
   "cell_type": "code",
   "execution_count": null,
   "metadata": {
    "colab": {
     "base_uri": "https://localhost:8080/",
     "height": 279
    },
    "colab_type": "code",
    "id": "b8zmHKg1KRp8",
    "outputId": "ba4e6f5d-fb64-49c7-a7a5-de88c9288da3"
   },
   "outputs": [],
   "source": [
    "import seaborn as sns\n",
    "import matplotlib.pyplot as plt\n",
    "\n",
    "g = sns.FacetGrid(PTS, col=\"Pos\")\n",
    "g.map(plt.hist, \"PTS\");"
   ]
  },
  {
   "cell_type": "markdown",
   "metadata": {
    "colab_type": "text",
    "id": "JaK1fhKg03Ob"
   },
   "source": [
    "### **Box plots**"
   ]
  },
  {
   "cell_type": "markdown",
   "metadata": {
    "colab_type": "text",
    "id": "scWFuA5E4dOm"
   },
   "source": [
    "#### **Box plot of points scored (PTS) grouped by Position**"
   ]
  },
  {
   "cell_type": "markdown",
   "metadata": {
    "colab_type": "text",
    "id": "RNnP6Bf3BuTP"
   },
   "source": [
    "##### **pandas built-in visualization**"
   ]
  },
  {
   "cell_type": "code",
   "execution_count": null,
   "metadata": {
    "colab": {
     "base_uri": "https://localhost:8080/",
     "height": 318
    },
    "colab_type": "code",
    "id": "QBoCmfHaylPA",
    "outputId": "829748da-56b3-4514-8c04-91049cc19e15"
   },
   "outputs": [],
   "source": [
    "PTS.boxplot(column='PTS', by='Pos')"
   ]
  },
  {
   "cell_type": "markdown",
   "metadata": {
    "colab_type": "text",
    "id": "w8DxVve0B0Kd"
   },
   "source": [
    "##### **Seaborn data visualization**"
   ]
  },
  {
   "cell_type": "code",
   "execution_count": null,
   "metadata": {
    "colab": {
     "base_uri": "https://localhost:8080/",
     "height": 296
    },
    "colab_type": "code",
    "id": "S7iNqru01ehH",
    "outputId": "64d7a48c-d806-4dba-ff96-4eedb11900d3"
   },
   "outputs": [],
   "source": [
    "import seaborn as sns\n",
    "\n",
    "sns.boxplot(x = 'Pos', y = 'PTS', data = PTS) "
   ]
  },
  {
   "cell_type": "code",
   "execution_count": null,
   "metadata": {
    "colab": {
     "base_uri": "https://localhost:8080/",
     "height": 296
    },
    "colab_type": "code",
    "id": "aeF0zocV8HOi",
    "outputId": "df3e7b19-c4c3-49d7-8762-e892c86e6dde"
   },
   "outputs": [],
   "source": [
    "sns.boxplot(x = 'Pos', y = 'PTS', data = PTS) \n",
    "sns.stripplot(x = 'Pos', y = 'PTS', data = PTS,\n",
    "              jitter=True, \n",
    "              marker='o',\n",
    "              alpha=0.8, \n",
    "              color=\"black\")"
   ]
  },
  {
   "cell_type": "markdown",
   "metadata": {
    "colab_type": "text",
    "id": "WJaX_LkAZGyt"
   },
   "source": [
    "### **Heat map**"
   ]
  },
  {
   "cell_type": "markdown",
   "metadata": {
    "colab_type": "text",
    "id": "SjKgdqh4cVi0"
   },
   "source": [
    "#### Compute the correlation matrix"
   ]
  },
  {
   "cell_type": "code",
   "execution_count": null,
   "metadata": {
    "colab": {
     "base_uri": "https://localhost:8080/",
     "height": 439
    },
    "colab_type": "code",
    "id": "cx5wLvHHZQAb",
    "outputId": "d4a85216-c120-4e2b-d752-ff7dbe062ad4"
   },
   "outputs": [],
   "source": [
    "corr = df.corr()\n",
    "corr"
   ]
  },
  {
   "cell_type": "markdown",
   "metadata": {
    "colab_type": "text",
    "id": "ZSjodkgJcYGJ"
   },
   "source": [
    "#### Make the heat map"
   ]
  },
  {
   "cell_type": "code",
   "execution_count": null,
   "metadata": {
    "colab": {
     "base_uri": "https://localhost:8080/",
     "height": 299
    },
    "colab_type": "code",
    "id": "1hyNQDSUZR7K",
    "outputId": "1b2fbc92-3301-4d75-b1cc-075e3cac986d"
   },
   "outputs": [],
   "source": [
    "sns.heatmap(corr)"
   ]
  },
  {
   "cell_type": "markdown",
   "metadata": {
    "colab_type": "text",
    "id": "95ovHWzzcaNg"
   },
   "source": [
    "#### Adjust figure size of heat map"
   ]
  },
  {
   "cell_type": "code",
   "execution_count": null,
   "metadata": {
    "colab": {
     "base_uri": "https://localhost:8080/",
     "height": 360
    },
    "colab_type": "code",
    "id": "HUzMq_HTcBO3",
    "outputId": "ad9ad510-8049-4f59-841a-c810c022a145"
   },
   "outputs": [],
   "source": [
    "import seaborn as sns\n",
    "import matplotlib.pyplot as plt\n",
    "\n",
    "fig, ax = plt.subplots(figsize=(7,5))\n",
    "sns.heatmap(corr, square=True)"
   ]
  },
  {
   "cell_type": "markdown",
   "metadata": {
    "colab_type": "text",
    "id": "usGhMrEmce19"
   },
   "source": [
    "#### Mask diagonal half of heat map (Diagonal correlation matrix)"
   ]
  },
  {
   "cell_type": "code",
   "execution_count": null,
   "metadata": {
    "colab": {
     "base_uri": "https://localhost:8080/",
     "height": 343
    },
    "colab_type": "code",
    "id": "GqzohV6ybWSH",
    "outputId": "70f3c0c1-5d9e-415e-bcc9-d11e536ba94c"
   },
   "outputs": [],
   "source": [
    "# https://seaborn.pydata.org/generated/seaborn.heatmap.html\n",
    "\n",
    "import numpy as np\n",
    "import seaborn as sns\n",
    "\n",
    "mask = np.zeros_like(corr)\n",
    "mask[np.triu_indices_from(mask)] = True\n",
    "with sns.axes_style(\"white\"):\n",
    "    f, ax = plt.subplots(figsize=(7, 5))\n",
    "    ax = sns.heatmap(corr, mask=mask, vmax=1, square=True)"
   ]
  },
  {
   "cell_type": "markdown",
   "metadata": {
    "colab_type": "text",
    "id": "e7NK5ogEL3Pb"
   },
   "source": [
    "### **Scatter Plot**"
   ]
  },
  {
   "cell_type": "code",
   "execution_count": null,
   "metadata": {
    "colab": {
     "base_uri": "https://localhost:8080/",
     "height": 419
    },
    "colab_type": "code",
    "id": "fsWIQcBcOoM2",
    "outputId": "96d25c4c-045b-4850-94d3-1389f1c5cbef"
   },
   "outputs": [],
   "source": [
    "df"
   ]
  },
  {
   "cell_type": "markdown",
   "metadata": {
    "colab_type": "text",
    "id": "zYihuJ1ITpPA"
   },
   "source": [
    "#### Select columns if they have numerical data types"
   ]
  },
  {
   "cell_type": "code",
   "execution_count": null,
   "metadata": {
    "colab": {
     "base_uri": "https://localhost:8080/",
     "height": 419
    },
    "colab_type": "code",
    "id": "ZIQ5nz2ZR5YZ",
    "outputId": "f899eebc-7b7c-4f1d-f499-6c91b7dae779"
   },
   "outputs": [],
   "source": [
    "df.select_dtypes(include=['number'])"
   ]
  },
  {
   "cell_type": "markdown",
   "metadata": {
    "colab_type": "text",
    "id": "BdgDVlAPTk4f"
   },
   "source": [
    "#### Select the first 5 columns (by index number)"
   ]
  },
  {
   "cell_type": "code",
   "execution_count": null,
   "metadata": {
    "colab": {},
    "colab_type": "code",
    "id": "cdAwDzKiSyV4"
   },
   "outputs": [],
   "source": [
    "number = df.select_dtypes(include=['number'])"
   ]
  },
  {
   "cell_type": "code",
   "execution_count": null,
   "metadata": {
    "colab": {
     "base_uri": "https://localhost:8080/",
     "height": 419
    },
    "colab_type": "code",
    "id": "oHD3J9-8VMQX",
    "outputId": "3139cc1d-2f4c-40ff-d690-076930bb0c6f"
   },
   "outputs": [],
   "source": [
    "number.iloc[:,:5]"
   ]
  },
  {
   "cell_type": "markdown",
   "metadata": {
    "colab_type": "text",
    "id": "Pda7MJ2oUn-I"
   },
   "source": [
    "#### Select 5 specific columns (by column names)"
   ]
  },
  {
   "cell_type": "code",
   "execution_count": null,
   "metadata": {
    "colab": {
     "base_uri": "https://localhost:8080/",
     "height": 419
    },
    "colab_type": "code",
    "id": "g3dawTyNUqgP",
    "outputId": "76e34baa-b5b7-4f02-d7ed-793e3c4b391b"
   },
   "outputs": [],
   "source": [
    "selections = ['Age', 'G', 'STL', 'BLK', 'AST', 'PTS']\n",
    "df5 = df[selections]\n",
    "df5"
   ]
  },
  {
   "cell_type": "markdown",
   "metadata": {
    "colab_type": "text",
    "id": "ppSU4uyVXnMA"
   },
   "source": [
    "#### Make scatter plot grid"
   ]
  },
  {
   "cell_type": "markdown",
   "metadata": {
    "colab_type": "text",
    "id": "KrcVJrAQX8xf"
   },
   "source": [
    "##### 5 columns"
   ]
  },
  {
   "cell_type": "code",
   "execution_count": null,
   "metadata": {
    "colab": {
     "base_uri": "https://localhost:8080/",
     "height": 1000
    },
    "colab_type": "code",
    "id": "jlAy46FvOqRO",
    "outputId": "a879c309-3a25-4232-86e5-38651f7252c9"
   },
   "outputs": [],
   "source": [
    "import seaborn as sns\n",
    "\n",
    "g = sns.PairGrid(df5)\n",
    "g.map(plt.scatter);"
   ]
  },
  {
   "cell_type": "markdown",
   "metadata": {
    "colab_type": "text",
    "id": "6u3-OUokX3Sn"
   },
   "source": [
    "##### All columns"
   ]
  },
  {
   "cell_type": "code",
   "execution_count": null,
   "metadata": {
    "colab": {
     "base_uri": "https://localhost:8080/",
     "height": 1000
    },
    "colab_type": "code",
    "id": "hNcbUT1ABhvy",
    "outputId": "06e40e50-b738-41dd-f044-e5650e663e33"
   },
   "outputs": [],
   "source": [
    "import seaborn as sns\n",
    "\n",
    "g = sns.PairGrid(number)\n",
    "g.map(plt.scatter);"
   ]
  },
  {
   "cell_type": "code",
   "execution_count": null,
   "metadata": {
    "colab": {},
    "colab_type": "code",
    "id": "TDWYQUGUYAoz"
   },
   "outputs": [],
   "source": []
  }
 ],
 "metadata": {
  "colab": {
   "collapsed_sections": [],
   "name": "pandas-exploratory-data-analysis.ipynb",
   "provenance": []
  },
  "kernelspec": {
   "display_name": "Python 3 (ipykernel)",
   "language": "python",
   "name": "python3"
  },
  "language_info": {
   "codemirror_mode": {
    "name": "ipython",
    "version": 3
   },
   "file_extension": ".py",
   "mimetype": "text/x-python",
   "name": "python",
   "nbconvert_exporter": "python",
   "pygments_lexer": "ipython3",
   "version": "3.12.4"
  }
 },
 "nbformat": 4,
 "nbformat_minor": 4
}
