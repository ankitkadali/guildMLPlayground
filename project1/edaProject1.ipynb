{
 "cells": [
  {
   "cell_type": "code",
   "execution_count": 27,
   "id": "b1f40928-537f-4b31-b5d7-cd997bb13c7b",
   "metadata": {},
   "outputs": [
    {
     "name": "stdout",
     "output_type": "stream",
     "text": [
      "parquest file data loaded\n"
     ]
    }
   ],
   "source": [
    "# import pandas and load taxi data parquet file\n",
    "import pandas as pd\n",
    "import matplotlib.pyplot as plt\n",
    "import seaborn as sns\n",
    "\n",
    "taxiDataDf = pd.read_parquet('./yellow_tripdata_2022-01.parquet');\n",
    "print(\"parquest file data loaded\");"
   ]
  },
  {
   "cell_type": "code",
   "execution_count": 29,
   "id": "c558c5eb-5b86-4796-9436-e06c73b4cb2e",
   "metadata": {},
   "outputs": [
    {
     "name": "stdout",
     "output_type": "stream",
     "text": [
      "   VendorID tpep_pickup_datetime tpep_dropoff_datetime  passenger_count  \\\n",
      "0         1  2022-01-01 00:35:40   2022-01-01 00:53:29              2.0   \n",
      "1         1  2022-01-01 00:33:43   2022-01-01 00:42:07              1.0   \n",
      "2         2  2022-01-01 00:53:21   2022-01-01 01:02:19              1.0   \n",
      "3         2  2022-01-01 00:25:21   2022-01-01 00:35:23              1.0   \n",
      "4         2  2022-01-01 00:36:48   2022-01-01 01:14:20              1.0   \n",
      "\n",
      "   trip_distance  RatecodeID store_and_fwd_flag  PULocationID  DOLocationID  \\\n",
      "0           3.80         1.0                  N           142           236   \n",
      "1           2.10         1.0                  N           236            42   \n",
      "2           0.97         1.0                  N           166           166   \n",
      "3           1.09         1.0                  N           114            68   \n",
      "4           4.30         1.0                  N            68           163   \n",
      "\n",
      "   payment_type  fare_amount  extra  mta_tax  tip_amount  tolls_amount  \\\n",
      "0             1         14.5    3.0      0.5        3.65           0.0   \n",
      "1             1          8.0    0.5      0.5        4.00           0.0   \n",
      "2             1          7.5    0.5      0.5        1.76           0.0   \n",
      "3             2          8.0    0.5      0.5        0.00           0.0   \n",
      "4             1         23.5    0.5      0.5        3.00           0.0   \n",
      "\n",
      "   improvement_surcharge  total_amount  congestion_surcharge  airport_fee  \n",
      "0                    0.3         21.95                   2.5          0.0  \n",
      "1                    0.3         13.30                   0.0          0.0  \n",
      "2                    0.3         10.56                   0.0          0.0  \n",
      "3                    0.3         11.80                   2.5          0.0  \n",
      "4                    0.3         30.30                   2.5          0.0  \n"
     ]
    }
   ],
   "source": [
    "# display top 5 rows of the parquet file\n",
    "print(taxiDataDf.head(5));"
   ]
  },
  {
   "cell_type": "code",
   "execution_count": 31,
   "id": "a09fc20a-a3f6-4cb6-ab1e-e9a40ff1a3b3",
   "metadata": {},
   "outputs": [
    {
     "name": "stdout",
     "output_type": "stream",
     "text": [
      "(2463931, 19)\n"
     ]
    }
   ],
   "source": [
    "# shape of dataset\n",
    "# rows and columns\n",
    "print(taxiDataDf.shape)"
   ]
  },
  {
   "cell_type": "code",
   "execution_count": 69,
   "id": "8099ebab-5287-4284-b03a-a81de314c543",
   "metadata": {},
   "outputs": [
    {
     "name": "stdout",
     "output_type": "stream",
     "text": [
      "['passenger_count', 'RatecodeID', 'store_and_fwd_flag', 'congestion_surcharge', 'airport_fee']\n",
      "passenger null count :  71503\n",
      "RatecodeID null count:  71503\n",
      "store_and_fwd_flag null count : 71503\n",
      "congestion_surcharge null count :  71503\n",
      "airport_fee null count: 71503\n"
     ]
    }
   ],
   "source": [
    "# check for missing values\n",
    "columnsList = taxiDataDf.columns[taxiDataDf.isnull().any()].tolist()  # display columns which has null values\n",
    "print(columnsList);\n",
    "\n",
    "passengerNulls = taxiDataDf['passenger_count'].isnull().sum()\n",
    "RatecodeIDNulls = taxiDataDf['RatecodeID'].isnull().sum()\n",
    "store_and_fwd_flagNulls = taxiDataDf['store_and_fwd_flag'].isnull().sum()\n",
    "congestion_surchargeNulls = taxiDataDf['congestion_surcharge'].isnull().sum()\n",
    "airport_feeNulls = taxiDataDf['airport_fee'].isnull().sum()\n",
    "\n",
    "print('passenger null count : ' ,passengerNulls);\n",
    "print('RatecodeID null count: ', RatecodeIDNulls);\n",
    "print('store_and_fwd_flag null count :', store_and_fwd_flagNulls);\n",
    "print('congestion_surcharge null count : ',congestion_surchargeNulls);\n",
    "print('airport_fee null count:' , airport_feeNulls);"
   ]
  },
  {
   "cell_type": "code",
   "execution_count": 49,
   "id": "3c482805-e1f4-4612-b535-8f2253b6f4b1",
   "metadata": {},
   "outputs": [
    {
     "name": "stdout",
     "output_type": "stream",
     "text": [
      "           VendorID        tpep_pickup_datetime       tpep_dropoff_datetime  \\\n",
      "count  2.463931e+06                     2463931                     2463931   \n",
      "mean   1.707819e+00  2022-01-17 01:19:51.689724  2022-01-17 01:34:04.421902   \n",
      "min    1.000000e+00         2008-12-31 22:23:09         2008-12-31 23:06:56   \n",
      "25%    1.000000e+00         2022-01-09 15:37:41  2022-01-09 15:50:50.500000   \n",
      "50%    2.000000e+00         2022-01-17 12:11:45         2022-01-17 12:23:49   \n",
      "75%    2.000000e+00  2022-01-24 13:49:37.500000         2022-01-24 14:02:51   \n",
      "max    6.000000e+00         2022-05-18 20:41:57         2022-05-18 20:47:45   \n",
      "std    5.021375e-01                         NaN                         NaN   \n",
      "\n",
      "       passenger_count  trip_distance    RatecodeID  PULocationID  \\\n",
      "count     2.392428e+06   2.463931e+06  2.392428e+06  2.463931e+06   \n",
      "mean      1.389453e+00   5.372751e+00  1.415507e+00  1.660768e+02   \n",
      "min       0.000000e+00   0.000000e+00  1.000000e+00  1.000000e+00   \n",
      "25%       1.000000e+00   1.040000e+00  1.000000e+00  1.320000e+02   \n",
      "50%       1.000000e+00   1.740000e+00  1.000000e+00  1.620000e+02   \n",
      "75%       1.000000e+00   3.130000e+00  1.000000e+00  2.340000e+02   \n",
      "max       9.000000e+00   3.061593e+05  9.900000e+01  2.650000e+02   \n",
      "std       9.829686e-01   5.478714e+02  5.917573e+00  6.546806e+01   \n",
      "\n",
      "       DOLocationID  payment_type   fare_amount         extra       mta_tax  \\\n",
      "count  2.463931e+06  2.463931e+06  2.463931e+06  2.463931e+06  2.463931e+06   \n",
      "mean   1.635807e+02  1.194449e+00  1.294648e+01  1.006710e+00  4.914539e-01   \n",
      "min    1.000000e+00  0.000000e+00 -4.800000e+02 -4.500000e+00 -5.000000e-01   \n",
      "25%    1.130000e+02  1.000000e+00  6.500000e+00  0.000000e+00  5.000000e-01   \n",
      "50%    1.620000e+02  1.000000e+00  9.000000e+00  5.000000e-01  5.000000e-01   \n",
      "75%    2.360000e+02  1.000000e+00  1.400000e+01  2.500000e+00  5.000000e-01   \n",
      "max    2.650000e+02  5.000000e+00  4.010923e+05  3.350000e+01  1.659000e+01   \n",
      "std    7.079016e+01  5.001778e-01  2.558149e+02  1.236226e+00  8.291560e-02   \n",
      "\n",
      "         tip_amount  tolls_amount  improvement_surcharge  total_amount  \\\n",
      "count  2.463931e+06  2.463931e+06           2.463931e+06  2.463931e+06   \n",
      "mean   2.385696e+00  3.749773e-01           2.967234e-01  1.916937e+01   \n",
      "min   -1.252200e+02 -3.140000e+01          -3.000000e-01 -4.803000e+02   \n",
      "25%    7.200000e-01  0.000000e+00           3.000000e-01  1.130000e+01   \n",
      "50%    2.000000e+00  0.000000e+00           3.000000e-01  1.469000e+01   \n",
      "75%    3.000000e+00  0.000000e+00           3.000000e-01  2.002000e+01   \n",
      "max    8.888800e+02  1.933000e+02           3.000000e-01  4.010956e+05   \n",
      "std    2.830698e+00  1.680538e+00           4.374741e-02  2.559641e+02   \n",
      "\n",
      "       congestion_surcharge   airport_fee  \n",
      "count          2.392428e+06  2.392428e+06  \n",
      "mean           2.282322e+00  8.249935e-02  \n",
      "min           -2.500000e+00 -1.250000e+00  \n",
      "25%            2.500000e+00  0.000000e+00  \n",
      "50%            2.500000e+00  0.000000e+00  \n",
      "75%            2.500000e+00  0.000000e+00  \n",
      "max            2.500000e+00  1.250000e+00  \n",
      "std            7.432040e-01  3.125554e-01  \n"
     ]
    }
   ],
   "source": [
    "# summary of stats\n",
    "print(taxiDataDf.describe())"
   ]
  },
  {
   "cell_type": "code",
   "execution_count": 73,
   "id": "7897b395-b147-4d2c-af07-abfeb020321b",
   "metadata": {},
   "outputs": [
    {
     "name": "stdout",
     "output_type": "stream",
     "text": [
      "(2392428, 19)\n"
     ]
    }
   ],
   "source": [
    "# drop any rows with missing values\n",
    "taxiDataIgnoreNadf = taxiDataDf.dropna(how='any') # this is the difference between shape output and isNull sum output\n",
    "print(taxiDataIgnoreNadf.shape)"
   ]
  },
  {
   "cell_type": "code",
   "execution_count": null,
   "id": "f1a71279-9cef-4616-96ae-0e30eaff03b1",
   "metadata": {},
   "outputs": [],
   "source": []
  }
 ],
 "metadata": {
  "kernelspec": {
   "display_name": "Python 3 (ipykernel)",
   "language": "python",
   "name": "python3"
  },
  "language_info": {
   "codemirror_mode": {
    "name": "ipython",
    "version": 3
   },
   "file_extension": ".py",
   "mimetype": "text/x-python",
   "name": "python",
   "nbconvert_exporter": "python",
   "pygments_lexer": "ipython3",
   "version": "3.12.4"
  }
 },
 "nbformat": 4,
 "nbformat_minor": 5
}
